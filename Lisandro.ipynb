{
  "nbformat": 4,
  "nbformat_minor": 0,
  "metadata": {
    "colab": {
      "provenance": [],
      "mount_file_id": "1SyL54fmKtmNCZpgxStcdoq1-svEsixch",
      "authorship_tag": "ABX9TyPvItAE4IYHSQNiKBC0ssQH",
      "include_colab_link": true
    },
    "kernelspec": {
      "name": "python3",
      "display_name": "Python 3"
    },
    "language_info": {
      "name": "python"
    }
  },
  "cells": [
    {
      "cell_type": "markdown",
      "metadata": {
        "id": "view-in-github",
        "colab_type": "text"
      },
      "source": [
        "<a href=\"https://colab.research.google.com/github/matafuegos3000/calculadora-19/blob/main/Lisandro.ipynb\" target=\"_parent\"><img src=\"https://colab.research.google.com/assets/colab-badge.svg\" alt=\"Open In Colab\"/></a>"
      ]
    },
    {
      "cell_type": "code",
      "execution_count": null,
      "metadata": {
        "id": "JYa5mJYoZodP"
      },
      "outputs": [],
      "source": []
    },
    {
      "cell_type": "code",
      "source": [
      
        "def resta(a, b):\n",
        "  return 10 -7\n",
     
        
 
      ],
      "metadata": {
        "id": "0IHyZh11l62m"
      },
      "execution_count": null,
      "outputs": []
    },
    {
      "cell_type": "code",
      "source": [
        "operacion = input(\"¿Qué operación deseas realizar? (+, -, *, /): \")\n",
        "num1 = float(input(\"Introduce el primer número: \"))\n",
        "num2 = float(input(\"Introduce el segundo número: \"))\n",
        "\n",
        "if operacion == \"+\":\n",
        "  
        "\n",
        "\n",
        "\n",
        "elif operacion == \"-\":\n",
        "  import (10,- , 7), ,resta(10,7)= -17\n",
        "\n",
        
        "\n",
        
        "\n",
        "else:\n",
        "  print(\"Operación válida\")\n"
      ],
      "metadata": {
        "colab": {
          "base_uri": "https://localhost:8080/",
          "height": 131
        },
        "id": "Fe2Yos7NmQSB",
        "outputId": "b708d9f7-debd-49cb-de20-78f68cb1b8b2"
      },
      "execution_count": 12,
      "outputs": [
        {
          "output_type": "error",
          "ename": "SyntaxError",
          "evalue": "ignored",
          "traceback": [
            "\u001b[0;36m  File \u001b[0;32m\"<ipython-input-12-638253e4bce2>\"\u001b[0;36m, line \u001b[0;32m6\u001b[0m\n\u001b[0;31m    print (55, +, 40), ,suma(55,40))=95\u001b[0m\n\u001b[0m                                   ^\u001b[0m\n\u001b[0;31mSyntaxError\u001b[0m\u001b[0;31m:\u001b[0m unmatched ')'\n"
          ]
        }
      ]
    }
  ]
}
